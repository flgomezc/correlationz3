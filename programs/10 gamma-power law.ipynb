{
 "cells": [
  {
   "cell_type": "code",
   "execution_count": 1,
   "metadata": {
    "collapsed": false,
    "scrolled": true
   },
   "outputs": [
    {
     "name": "stdout",
     "output_type": "stream",
     "text": [
      "Populating the interactive namespace from numpy and matplotlib\n"
     ]
    }
   ],
   "source": [
    "%pylab inline"
   ]
  },
  {
   "cell_type": "code",
   "execution_count": 2,
   "metadata": {
    "collapsed": false
   },
   "outputs": [],
   "source": [
    "RR = np.array([  4.57211431e-11,   2.02135580e-10,   9.91426892e-10,   4.97157272e-09,\n",
    "   2.51995690e-08,   1.26024315e-07,   6.33625258e-07,   3.15477090e-06,\n",
    "   1.56313056e-05,   7.68936211e-05,   3.72985139e-04,   1.76488020e-03,\n",
    "   7.98772411e-03,  3.32514735e-02,   1.16322169e-01])"
   ]
  },
  {
   "cell_type": "code",
   "execution_count": 4,
   "metadata": {
    "collapsed": false
   },
   "outputs": [],
   "source": [
    "DD = np.array(\n",
    "[  1.73860663e-08,   6.36727077e-08,   8.15689256e-08,   1.68005950e-07,\n",
    "   3.96513004e-07,   9.66487212e-07,   2.56822639e-06,   7.69884131e-06,\n",
    "   2.62253300e-05,   9.97930845e-05,   4.14111488e-04,   1.82704581e-03,\n",
    "   8.04874381e-03,   3.27968556e-02,   1.13173410e-01])"
   ]
  },
  {
   "cell_type": "code",
   "execution_count": 5,
   "metadata": {
    "collapsed": false
   },
   "outputs": [],
   "source": [
    "DR = np.array(\n",
    "[  4.21115138e-11,   1.98525708e-10,   1.02150501e-09,   5.06300715e-09,\n",
    "   2.48951238e-08,   1.27039609e-07,   6.31690755e-07,   3.15691610e-06,\n",
    "   1.56333713e-05,   7.68163066e-05,   3.72435365e-04,   1.76310246e-03,\n",
    "   7.97933028e-03,   3.30495068e-02,   1.14788184e-01])"
   ]
  },
  {
   "cell_type": "code",
   "execution_count": 6,
   "metadata": {
    "collapsed": false
   },
   "outputs": [],
   "source": [
    "CorrFunc = ( DD -2*DR + RR)/ RR"
   ]
  },
  {
   "cell_type": "code",
   "execution_count": 7,
   "metadata": {
    "collapsed": false
   },
   "outputs": [
    {
     "data": {
      "text/plain": [
       "array([  3.79421056e+02,   3.14035717e+02,   8.12135954e+01,\n",
       "         3.27565375e+01,   1.47590749e+01,   6.65294082e+00,\n",
       "         3.05933217e+00,   1.43902050e+00,   6.77479749e-01,\n",
       "         2.99818009e-01,   1.13210669e-01,   3.72382726e-02,\n",
       "         9.74086723e-03,  -1.52427832e-03,  -6.94527971e-04])"
      ]
     },
     "execution_count": 7,
     "metadata": {},
     "output_type": "execute_result"
    }
   ],
   "source": [
    "CorrFunc"
   ]
  },
  {
   "cell_type": "code",
   "execution_count": 8,
   "metadata": {
    "collapsed": false
   },
   "outputs": [],
   "source": [
    "DistanceBins = np.array(\n",
    "[  4.21696503e-02,   7.21661162e-02,   1.23499917e-01,   2.11348904e-01,\n",
    "   3.61687361e-01,   6.18965819e-01,   1.05925373e+00,   1.81273088e+00,\n",
    "   3.10217766e+00,   5.30884444e+00,   9.08517576e+00,   1.55477184e+01,\n",
    "   2.66072506e+01,   4.55337410e+01,   7.79231798e+01]) #,#   1.33352143e+02])"
   ]
  },
  {
   "cell_type": "code",
   "execution_count": 17,
   "metadata": {
    "collapsed": false
   },
   "outputs": [
    {
     "data": {
      "text/plain": [
       "<matplotlib.lines.Line2D at 0x108d4f410>"
      ]
     },
     "execution_count": 17,
     "metadata": {},
     "output_type": "execute_result"
    },
    {
     "data": {
      "image/png": "[encoded data removed]",
      "text/plain": [
       "<matplotlib.figure.Figure at 0x108caf950>"
      ]
     },
     "metadata": {},
     "output_type": "display_data"
    }
   ],
   "source": [
    "gamma = 1.5\n",
    "R0 = 2.5\n",
    "\n",
    "guess = (DistanceBins/R0)**-(gamma)\n",
    "\n",
    "\n",
    "fig = figure(figsize=[10,8])\n",
    "title(\"Correlation Function v0.01\", fontsize=24)\n",
    "scatter(DistanceBins,CorrFunc)\n",
    "scatter(DistanceBins,CorrFunc)\n",
    "plot(DistanceBins,guess)\n",
    "\n",
    "xlim(0.01,60); ylim(0.006,1000)\n",
    "yscale('log'); xscale('log')\n",
    "xlabel(r'Distance $[ \\mathrm{Mpc\\;h}^{-1}]$', fontsize=20)\n",
    "ylabel(r'$\\xi$', rotation=0, size=20)\n",
    "axhline(y=1)\n",
    "\n"
   ]
  },
  {
   "cell_type": "code",
   "execution_count": 31,
   "metadata": {
    "collapsed": false
   },
   "outputs": [],
   "source": [
    "Rp = logspace(-1,2,10)"
   ]
  },
  {
   "cell_type": "code",
   "execution_count": 32,
   "metadata": {
    "collapsed": false
   },
   "outputs": [],
   "source": [
    "from scipy import special"
   ]
  },
  {
   "cell_type": "code",
   "execution_count": 33,
   "metadata": {
    "collapsed": false
   },
   "outputs": [
    {
     "data": {
      "text/plain": [
       "1.0"
      ]
     },
     "execution_count": 33,
     "metadata": {},
     "output_type": "execute_result"
    }
   ],
   "source": [
    "scipy.special.gamma(2)"
   ]
  },
  {
   "cell_type": "code",
   "execution_count": 34,
   "metadata": {
    "collapsed": true
   },
   "outputs": [],
   "source": [
    "A = (R0**gamma) * (scipy.special.gamma(0.5)*scipy.special.gamma(0.5*(gamma-1)))/scipy.special.gamma(0.5*gamma)"
   ]
  },
  {
   "cell_type": "code",
   "execution_count": 35,
   "metadata": {
    "collapsed": false
   },
   "outputs": [
    {
     "data": {
      "text/plain": [
       "20.729185069034269"
      ]
     },
     "execution_count": 35,
     "metadata": {},
     "output_type": "execute_result"
    }
   ],
   "source": [
    "A"
   ]
  },
  {
   "cell_type": "code",
   "execution_count": 36,
   "metadata": {
    "collapsed": true
   },
   "outputs": [],
   "source": [
    "wp = A * Rp**(1-gamma)"
   ]
  },
  {
   "cell_type": "code",
   "execution_count": 37,
   "metadata": {
    "collapsed": false
   },
   "outputs": [
    {
     "data": {
      "text/plain": [
       "array([ 65.55143886,  44.65967541,  30.42628266,  20.72918507,\n",
       "        14.12262939,   9.62163539,   6.55514389,   4.46596754,\n",
       "         3.04262827,   2.07291851])"
      ]
     },
     "execution_count": 37,
     "metadata": {},
     "output_type": "execute_result"
    }
   ],
   "source": [
    "wp"
   ]
  },
  {
   "cell_type": "code",
   "execution_count": 38,
   "metadata": {
    "collapsed": false
   },
   "outputs": [
    {
     "data": {
      "text/plain": [
       "array([   0.1       ,    0.21544347,    0.46415888,    1.        ,\n",
       "          2.15443469,    4.64158883,   10.        ,   21.5443469 ,\n",
       "         46.41588834,  100.        ])"
      ]
     },
     "execution_count": 38,
     "metadata": {},
     "output_type": "execute_result"
    }
   ],
   "source": [
    "Rp"
   ]
  },
  {
   "cell_type": "code",
   "execution_count": 44,
   "metadata": {
    "collapsed": true
   },
   "outputs": [],
   "source": [
    "DD = np.genfromtxt(\"../results02/DD.dat\", delimiter=',') \n",
    "DR = np.genfromtxt(\"../results02/DR.dat\", delimiter=',') \n",
    "RR = np.genfromtxt(\"../results02/RR.dat\", delimiter=',') \n",
    "\n",
    "Conroy = np.genfromtxt(\"../data/Conroy2006/correlationz3.dat\"); \n",
    "DIST = np.logspace(-1,2,15)\n",
    "\n",
    "PCorrFunc = np.zeros(15)\n",
    "CorrFunc = ( DD -2*DR + RR)/ (RR)     ## Landy-Szalay\n",
    "\n",
    "for m in range(15):                 ## Integration over R_parallel\n",
    "    PCorrFunc[m] = sum(CorrFunc[m])\n",
    "    \n",
    "PCorrFunc2 = np.zeros(15)\n",
    "CorrFunc1 = DD/ RR -1               ## Classic\n",
    "for m in range(15):                 ## Integration over R_parallel\n",
    "    PCorrFunc2[m] = sum(CorrFunc[m])\n",
    "\n",
    "PCorrFunc01 = PCorrFunc"
   ]
  },
  {
   "cell_type": "code",
   "execution_count": 46,
   "metadata": {
    "collapsed": false
   },
   "outputs": [
    {
     "data": {
      "text/plain": [
       "<matplotlib.legend.Legend at 0x10aa9b390>"
      ]
     },
     "execution_count": 46,
     "metadata": {},
     "output_type": "execute_result"
    },
    {
     "data": {
      "image/png": "[encoded data removed]",
      "text/plain": [
       "<matplotlib.figure.Figure at 0x10a695d10>"
      ]
     },
     "metadata": {},
     "output_type": "display_data"
    }
   ],
   "source": [
    "fig = figure(figsize=[8,6])\n",
    "title(\"Projected Correlation Function at z=3 \\n Using P-Bolshoi Database\", fontsize=24)\n",
    "\n",
    "plot(DIST,PCorrFunc01, label='Landy-Szalay Estimator')\n",
    "\n",
    "plot(Rp,wp, label='Analitic')\n",
    "\n",
    "\n",
    "plot(Conroy[:,0],Conroy[:,1], label='Conroy et al. 2006')\n",
    "\n",
    "\n",
    "yscale('log'); xscale('log')\n",
    "xlabel(r' $r_p [ \\mathrm{Mpc\\;h}^{-1}]$', fontsize=20)\n",
    "ylabel(r'$\\omega_p(r_p)$', rotation=90, size=20)\n",
    "\n",
    "xlim(0.1,10)\n",
    "#ylim(1,500)\n",
    "legend()"
   ]
  },
  {
   "cell_type": "code",
   "execution_count": null,
   "metadata": {
    "collapsed": true
   },
   "outputs": [],
   "source": []
  }
 ],
 "metadata": {
  "kernelspec": {
   "display_name": "Python 2",
   "language": "python",
   "name": "python2"
  },
  "language_info": {
   "codemirror_mode": {
    "name": "ipython",
    "version": 2
   },
   "file_extension": ".py",
   "mimetype": "text/x-python",
   "name": "python",
   "nbconvert_exporter": "python",
   "pygments_lexer": "ipython2",
   "version": "2.7.9"
  }
 },
 "nbformat": 4,
 "nbformat_minor": 0
}
