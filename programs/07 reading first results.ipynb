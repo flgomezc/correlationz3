{
 "metadata": {
  "name": "",
  "signature": "sha256:9e3f1a543dbfc675cb2d4229fed7f87f51b45089f5686839fb3bb194025dd39e"
 },
 "nbformat": 3,
 "nbformat_minor": 0,
 "worksheets": [
  {
   "cells": [
    {
     "cell_type": "code",
     "collapsed": false,
     "input": [
      "%pylab inline"
     ],
     "language": "python",
     "metadata": {},
     "outputs": [
      {
       "output_type": "stream",
       "stream": "stdout",
       "text": [
        "Populating the interactive namespace from numpy and matplotlib\n"
       ]
      }
     ],
     "prompt_number": 1
    },
    {
     "cell_type": "code",
     "collapsed": false,
     "input": [
      "RR = np.array([  4.57211431e-11,   2.02135580e-10,   9.91426892e-10,   4.97157272e-09,\n",
      "   2.51995690e-08,   1.26024315e-07,   6.33625258e-07,   3.15477090e-06,\n",
      "   1.56313056e-05,   7.68936211e-05,   3.72985139e-04,   1.76488020e-03,\n",
      "   7.98772411e-03,  3.32514735e-02,   1.16322169e-01])"
     ],
     "language": "python",
     "metadata": {},
     "outputs": [],
     "prompt_number": 3
    },
    {
     "cell_type": "code",
     "collapsed": false,
     "input": [
      "RR"
     ],
     "language": "python",
     "metadata": {},
     "outputs": [
      {
       "metadata": {},
       "output_type": "pyout",
       "prompt_number": 4,
       "text": [
        "array([  4.57211431e-11,   2.02135580e-10,   9.91426892e-10,\n",
        "         4.97157272e-09,   2.51995690e-08,   1.26024315e-07,\n",
        "         6.33625258e-07,   3.15477090e-06,   1.56313056e-05,\n",
        "         7.68936211e-05,   3.72985139e-04,   1.76488020e-03,\n",
        "         7.98772411e-03,   3.32514735e-02,   1.16322169e-01])"
       ]
      }
     ],
     "prompt_number": 4
    },
    {
     "cell_type": "code",
     "collapsed": false,
     "input": [
      "DD = np.array(\n",
      "[  1.73860663e-08,   6.36727077e-08,   8.15689256e-08,   1.68005950e-07,\n",
      "   3.96513004e-07,   9.66487212e-07,   2.56822639e-06,   7.69884131e-06,\n",
      "   2.62253300e-05,   9.97930845e-05,   4.14111488e-04,   1.82704581e-03,\n",
      "   8.04874381e-03,   3.27968556e-02,   1.13173410e-01])"
     ],
     "language": "python",
     "metadata": {},
     "outputs": [],
     "prompt_number": 5
    },
    {
     "cell_type": "code",
     "collapsed": false,
     "input": [
      "DD"
     ],
     "language": "python",
     "metadata": {},
     "outputs": [
      {
       "metadata": {},
       "output_type": "pyout",
       "prompt_number": 6,
       "text": [
        "array([  1.73860663e-08,   6.36727077e-08,   8.15689256e-08,\n",
        "         1.68005950e-07,   3.96513004e-07,   9.66487212e-07,\n",
        "         2.56822639e-06,   7.69884131e-06,   2.62253300e-05,\n",
        "         9.97930845e-05,   4.14111488e-04,   1.82704581e-03,\n",
        "         8.04874381e-03,   3.27968556e-02,   1.13173410e-01])"
       ]
      }
     ],
     "prompt_number": 6
    },
    {
     "cell_type": "code",
     "collapsed": false,
     "input": [
      "DR = np.array(\n",
      "[  4.21115138e-11,   1.98525708e-10,   1.02150501e-09,   5.06300715e-09,\n",
      "   2.48951238e-08,   1.27039609e-07,   6.31690755e-07,   3.15691610e-06,\n",
      "   1.56333713e-05,   7.68163066e-05,   3.72435365e-04,   1.76310246e-03,\n",
      "   7.97933028e-03,   3.30495068e-02,   1.14788184e-01])"
     ],
     "language": "python",
     "metadata": {},
     "outputs": [],
     "prompt_number": 7
    },
    {
     "cell_type": "code",
     "collapsed": false,
     "input": [
      "CorrFunc = ( DD -2*DR + RR)/ RR"
     ],
     "language": "python",
     "metadata": {},
     "outputs": [],
     "prompt_number": 8
    },
    {
     "cell_type": "code",
     "collapsed": false,
     "input": [
      "CorrFunc"
     ],
     "language": "python",
     "metadata": {},
     "outputs": [
      {
       "metadata": {},
       "output_type": "pyout",
       "prompt_number": 18,
       "text": [
        "array([  3.79421056e+02,   3.14035717e+02,   8.12135954e+01,\n",
        "         3.27565375e+01,   1.47590749e+01,   6.65294082e+00,\n",
        "         3.05933217e+00,   1.43902050e+00,   6.77479749e-01,\n",
        "         2.99818009e-01,   1.13210669e-01,   3.72382726e-02,\n",
        "         9.74086723e-03,  -1.52427832e-03,  -6.94527971e-04])"
       ]
      }
     ],
     "prompt_number": 18
    },
    {
     "cell_type": "code",
     "collapsed": false,
     "input": [
      "DistanceBins = np.array(\n",
      "[  4.21696503e-02,   7.21661162e-02,   1.23499917e-01,   2.11348904e-01,\n",
      "   3.61687361e-01,   6.18965819e-01,   1.05925373e+00,   1.81273088e+00,\n",
      "   3.10217766e+00,   5.30884444e+00,   9.08517576e+00,   1.55477184e+01,\n",
      "   2.66072506e+01,   4.55337410e+01,   7.79231798e+01]) #,#   1.33352143e+02])"
     ],
     "language": "python",
     "metadata": {},
     "outputs": [],
     "prompt_number": 13
    },
    {
     "cell_type": "code",
     "collapsed": false,
     "input": [
      "fig = figure(figsize=[10,8])\n",
      "title(\"Correlation Function v0.01\", fontsize=24)\n",
      "scatter(DistanceBins,CorrFunc)\n",
      "scatter(DistanceBins,CorrFunc)\n",
      "\n",
      "xlim(0.01,60); ylim(0.006,1000)\n",
      "yscale('log'); xscale('log')\n",
      "xlabel(r'Distance $[ \\mathrm{Mpc\\;h}^{-1}]$', fontsize=20)\n",
      "ylabel(r'$\\xi$', rotation=0, size=20)"
     ],
     "language": "python",
     "metadata": {},
     "outputs": [
      {
       "metadata": {},
       "output_type": "pyout",
       "prompt_number": 54,
       "text": [
        "<matplotlib.text.Text at 0x10edb6c50>"
       ]
      },
      {
       "metadata": {},
       "output_type": "display_data",
       "png": "[encoded data removed]",
       "text": [
        "<matplotlib.figure.Figure at 0x10c73db10>"
       ]
      }
     ],
     "prompt_number": 54
    },
    {
     "cell_type": "code",
     "collapsed": false,
     "input": [
      "fig = figure(figsize=[10,8])\n",
      "title(\"Correlation Function v0.01 \\n Conroy interest region\", fontsize=24)\n",
      "scatter(DistanceBins,CorrFunc)\n",
      "scatter(DistanceBins,CorrFunc)\n",
      "\n",
      "\n",
      "yscale('log'); xscale('log')\n",
      "xlabel(r'Distance $[ \\mathrm{Mpc\\;h}^{-1}]$', fontsize=20)\n",
      "ylabel(r'$\\xi$', rotation=0, size=20)\n",
      "\n",
      "xlim(0.1,10)\n",
      "ylim(1,500)\n"
     ],
     "language": "python",
     "metadata": {},
     "outputs": [
      {
       "metadata": {},
       "output_type": "pyout",
       "prompt_number": 55,
       "text": [
        "(1, 500)"
       ]
      },
      {
       "metadata": {},
       "output_type": "display_data",
       "png": "[encoded data removed]",
       "text": [
        "<matplotlib.figure.Figure at 0x10efc5650>"
       ]
      }
     ],
     "prompt_number": 55
    },
    {
     "cell_type": "code",
     "collapsed": false,
     "input": [],
     "language": "python",
     "metadata": {},
     "outputs": []
    }
   ],
   "metadata": {}
  }
 ]
}