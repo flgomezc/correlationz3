{
 "metadata": {
  "name": "",
  "signature": "sha256:64d18843a10e6ce9621e2bd7b0a54b871df9f16adad20979aa999f2e54ba3070"
 },
 "nbformat": 3,
 "nbformat_minor": 0,
 "worksheets": [
  {
   "cells": [
    {
     "cell_type": "code",
     "collapsed": false,
     "input": [
      "%pylab inline\n",
      "import numpy as np"
     ],
     "language": "python",
     "metadata": {},
     "outputs": [
      {
       "output_type": "stream",
       "stream": "stdout",
       "text": [
        "Populating the interactive namespace from numpy and matplotlib\n"
       ]
      }
     ],
     "prompt_number": 1
    },
    {
     "cell_type": "code",
     "collapsed": false,
     "input": [
      "pos = np.loadtxt('../data/cells/0.cvs', delimiter=',', usecols=[0,1,2])"
     ],
     "language": "python",
     "metadata": {},
     "outputs": [],
     "prompt_number": 2
    },
    {
     "cell_type": "code",
     "collapsed": false,
     "input": [
      "pos.shape"
     ],
     "language": "python",
     "metadata": {},
     "outputs": [
      {
       "metadata": {},
       "output_type": "pyout",
       "prompt_number": 3,
       "text": [
        "(1206, 3)"
       ]
      }
     ],
     "prompt_number": 3
    },
    {
     "cell_type": "code",
     "collapsed": false,
     "input": [
      "N=pos[:,0].shape[0]\n",
      "dist = 10**(np.linspace(-2.125,2.125,18)) ## Bins\n",
      "DIST =logspace(-2,2,17)                   ## Center of Bins\n",
      "counterDD = np.zeros(17)\n",
      "counterDR = np.zeros(17)\n",
      "CounterRR = np.zeros(17)\n",
      "\n",
      "for i in range(N-1):\n",
      "    for j in range(i+1,N):\n",
      "        r = 0.0\n",
      "        for k in range(3):\n",
      "            r+=(pos[i,k]-pos[j,k])**2\n",
      "        r = r**0.5        \n",
      "        m = 0\n",
      "        for m in range(counter.size):\n",
      "            if (dist[m]<r) and (r<dist[m+1]):\n",
      "                counterDD[m] +=1"
     ],
     "language": "python",
     "metadata": {},
     "outputs": [],
     "prompt_number": 4
    },
    {
     "cell_type": "code",
     "collapsed": false,
     "input": [
      "scatter(DIST,counter, s=20)\n",
      "yscale('log')\n",
      "ylim([1,10**6])\n",
      "xscale('log')"
     ],
     "language": "python",
     "metadata": {},
     "outputs": [
      {
       "metadata": {},
       "output_type": "display_data",
       "png": "[encoded data removed]",
       "text": [
        "<matplotlib.figure.Figure at 0x1061bf410>"
       ]
      }
     ],
     "prompt_number": 9
    },
    {
     "cell_type": "code",
     "collapsed": false,
     "input": [
      "counter"
     ],
     "language": "python",
     "metadata": {},
     "outputs": [
      {
       "metadata": {},
       "output_type": "pyout",
       "prompt_number": 11,
       "text": [
        "array([  0.00000000e+00,   7.00000000e+00,   2.60000000e+01,\n",
        "         8.80000000e+01,   2.32000000e+02,   4.73000000e+02,\n",
        "         1.06500000e+03,   3.06000000e+03,   1.00750000e+04,\n",
        "         3.39000000e+04,   1.15961000e+05,   3.15723000e+05,\n",
        "         2.45130000e+05,   8.75000000e+02,   0.00000000e+00,\n",
        "         0.00000000e+00,   0.00000000e+00])"
       ]
      }
     ],
     "prompt_number": 11
    },
    {
     "cell_type": "code",
     "collapsed": false,
     "input": [],
     "language": "python",
     "metadata": {},
     "outputs": []
    }
   ],
   "metadata": {}
  }
 ]
}