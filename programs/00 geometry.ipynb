{
 "metadata": {
  "name": "",
  "signature": "sha256:ddec1af14e30db0ca670299218fca2f25a598c6977705576bb4b21a9a80b8d19"
 },
 "nbformat": 3,
 "nbformat_minor": 0,
 "worksheets": [
  {
   "cells": [
    {
     "cell_type": "code",
     "collapsed": false,
     "input": [
      "%pylab inline"
     ],
     "language": "python",
     "metadata": {},
     "outputs": [
      {
       "output_type": "stream",
       "stream": "stdout",
       "text": [
        "Populating the interactive namespace from numpy and matplotlib\n"
       ]
      }
     ],
     "prompt_number": 1
    },
    {
     "cell_type": "code",
     "collapsed": false,
     "input": [
      "S = 200\n",
      "\n",
      "lattice = np.zeros([S,S,S])\n",
      "dist    = []\n",
      "\n",
      "for i in range(S):\n",
      "    for j in range(S):\n",
      "        for k in range(S):\n",
      "            lattice[i,j,k] = ( (S/2.0 -i)**2 + (S/2 -j)**2 + (S/2 -k)**2)**0.5\n",
      "            if lattice[i,j,k]<100 :\n",
      "                dist.append(lattice[i,j,k])"
     ],
     "language": "python",
     "metadata": {},
     "outputs": [],
     "prompt_number": 2
    },
    {
     "cell_type": "code",
     "collapsed": false,
     "input": [
      "DistRange = np.logspace(log10(0.05),log10(100),100)\n",
      "hist(dist, bins=DistRange, log='true')\n",
      "gca().set_xscale('log')"
     ],
     "language": "python",
     "metadata": {},
     "outputs": [
      {
       "metadata": {},
       "output_type": "display_data",
       "png": "[encoded data removed]",
       "text": [
        "<matplotlib.figure.Figure at 0x116538490>"
       ]
      }
     ],
     "prompt_number": 10
    },
    {
     "cell_type": "code",
     "collapsed": false,
     "input": [
      "DistRange = np.logspace(log10(0.05),log10(100),15)\n",
      "hist(dist, bins=DistRange, log='true')\n",
      "gca().set_xscale('log')"
     ],
     "language": "python",
     "metadata": {},
     "outputs": [
      {
       "metadata": {},
       "output_type": "display_data",
       "png": "[encoded data removed]",
       "text": [
        "<matplotlib.figure.Figure at 0x11614ebd0>"
       ]
      }
     ],
     "prompt_number": 11
    },
    {
     "cell_type": "code",
     "collapsed": false,
     "input": [
      "lattice[51,51,51]"
     ],
     "language": "python",
     "metadata": {},
     "outputs": [
      {
       "metadata": {},
       "output_type": "pyout",
       "prompt_number": 10,
       "text": [
        "1.7320508075688772"
       ]
      }
     ],
     "prompt_number": 10
    },
    {
     "cell_type": "code",
     "collapsed": false,
     "input": [
      "index=where(lattice<=1)"
     ],
     "language": "python",
     "metadata": {},
     "outputs": [],
     "prompt_number": 87
    },
    {
     "cell_type": "code",
     "collapsed": false,
     "input": [
      "index"
     ],
     "language": "python",
     "metadata": {},
     "outputs": [
      {
       "metadata": {},
       "output_type": "pyout",
       "prompt_number": 88,
       "text": [
        "(array([49, 50, 50, 50, 50, 50, 51]),\n",
        " array([50, 49, 50, 50, 50, 51, 50]),\n",
        " array([50, 50, 49, 50, 51, 50, 50]))"
       ]
      }
     ],
     "prompt_number": 88
    },
    {
     "cell_type": "code",
     "collapsed": false,
     "input": [
      "dist = np.array(dist)"
     ],
     "language": "python",
     "metadata": {},
     "outputs": [],
     "prompt_number": 89
    },
    {
     "cell_type": "code",
     "collapsed": false,
     "input": [
      "index = where( (dist>0) & (dist<=6) )\n",
      "len(index[0])"
     ],
     "language": "python",
     "metadata": {},
     "outputs": [
      {
       "metadata": {},
       "output_type": "pyout",
       "prompt_number": 108,
       "text": [
        "924"
       ]
      }
     ],
     "prompt_number": 108
    },
    {
     "cell_type": "code",
     "collapsed": false,
     "input": [
      "dist[index]"
     ],
     "language": "python",
     "metadata": {},
     "outputs": [
      {
       "metadata": {},
       "output_type": "pyout",
       "prompt_number": 109,
       "text": [
        "array([ 6.        ,  5.91607978,  5.83095189,  5.91607978,  5.74456265,\n",
        "        5.47722558,  5.38516481,  5.47722558,  5.74456265,  5.91607978,\n",
        "        5.47722558,  5.19615242,  5.09901951,  5.19615242,  5.47722558,\n",
        "        5.91607978,  5.83095189,  5.38516481,  5.09901951,  5.        ,\n",
        "        5.09901951,  5.38516481,  5.83095189,  5.91607978,  5.47722558,\n",
        "        5.19615242,  5.09901951,  5.19615242,  5.47722558,  5.91607978,\n",
        "        5.74456265,  5.47722558,  5.38516481,  5.47722558,  5.74456265,\n",
        "        5.91607978,  5.83095189,  5.91607978,  6.        ,  5.74456265,\n",
        "        5.65685425,  5.74456265,  6.        ,  5.83095189,  5.38516481,\n",
        "        5.09901951,  5.        ,  5.09901951,  5.38516481,  5.83095189,\n",
        "        6.        ,  5.38516481,  4.89897949,  4.58257569,  4.47213595,\n",
        "        4.58257569,  4.89897949,  5.38516481,  6.        ,  5.74456265,\n",
        "        5.09901951,  4.58257569,  4.24264069,  4.12310563,  4.24264069,\n",
        "        4.58257569,  5.09901951,  5.74456265,  5.65685425,  5.        ,\n",
        "        4.47213595,  4.12310563,  4.        ,  4.12310563,  4.47213595,\n",
        "        5.        ,  5.65685425,  5.74456265,  5.09901951,  4.58257569,\n",
        "        4.24264069,  4.12310563,  4.24264069,  4.58257569,  5.09901951,\n",
        "        5.74456265,  6.        ,  5.38516481,  4.89897949,  4.58257569,\n",
        "        4.47213595,  4.58257569,  4.89897949,  5.38516481,  6.        ,\n",
        "        5.83095189,  5.38516481,  5.09901951,  5.        ,  5.09901951,\n",
        "        5.38516481,  5.83095189,  6.        ,  5.74456265,  5.65685425,\n",
        "        5.74456265,  6.        ,  5.91607978,  5.83095189,  5.91607978,\n",
        "        5.83095189,  5.38516481,  5.09901951,  5.        ,  5.09901951,\n",
        "        5.38516481,  5.83095189,  5.83095189,  5.19615242,  4.69041576,\n",
        "        4.35889894,  4.24264069,  4.35889894,  4.69041576,  5.19615242,\n",
        "        5.83095189,  5.38516481,  4.69041576,  4.12310563,  3.74165739,\n",
        "        3.60555128,  3.74165739,  4.12310563,  4.69041576,  5.38516481,\n",
        "        5.91607978,  5.09901951,  4.35889894,  3.74165739,  3.31662479,\n",
        "        3.16227766,  3.31662479,  3.74165739,  4.35889894,  5.09901951,\n",
        "        5.91607978,  5.83095189,  5.        ,  4.24264069,  3.60555128,\n",
        "        3.16227766,  3.        ,  3.16227766,  3.60555128,  4.24264069,\n",
        "        5.        ,  5.83095189,  5.91607978,  5.09901951,  4.35889894,\n",
        "        3.74165739,  3.31662479,  3.16227766,  3.31662479,  3.74165739,\n",
        "        4.35889894,  5.09901951,  5.91607978,  5.38516481,  4.69041576,\n",
        "        4.12310563,  3.74165739,  3.60555128,  3.74165739,  4.12310563,\n",
        "        4.69041576,  5.38516481,  5.83095189,  5.19615242,  4.69041576,\n",
        "        4.35889894,  4.24264069,  4.35889894,  4.69041576,  5.19615242,\n",
        "        5.83095189,  5.83095189,  5.38516481,  5.09901951,  5.        ,\n",
        "        5.09901951,  5.38516481,  5.83095189,  5.91607978,  5.83095189,\n",
        "        5.91607978,  5.74456265,  5.47722558,  5.38516481,  5.47722558,\n",
        "        5.74456265,  6.        ,  5.38516481,  4.89897949,  4.58257569,\n",
        "        4.47213595,  4.58257569,  4.89897949,  5.38516481,  6.        ,\n",
        "        5.38516481,  4.69041576,  4.12310563,  3.74165739,  3.60555128,\n",
        "        3.74165739,  4.12310563,  4.69041576,  5.38516481,  5.74456265,\n",
        "        4.89897949,  4.12310563,  3.46410162,  3.        ,  2.82842712,\n",
        "        3.        ,  3.46410162,  4.12310563,  4.89897949,  5.74456265,\n",
        "        5.47722558,  4.58257569,  3.74165739,  3.        ,  2.44948974,\n",
        "        2.23606798,  2.44948974,  3.        ,  3.74165739,  4.58257569,\n",
        "        5.47722558,  5.38516481,  4.47213595,  3.60555128,  2.82842712,\n",
        "        2.23606798,  2.        ,  2.23606798,  2.82842712,  3.60555128,\n",
        "        4.47213595,  5.38516481,  5.47722558,  4.58257569,  3.74165739,\n",
        "        3.        ,  2.44948974,  2.23606798,  2.44948974,  3.        ,\n",
        "        3.74165739,  4.58257569,  5.47722558,  5.74456265,  4.89897949,\n",
        "        4.12310563,  3.46410162,  3.        ,  2.82842712,  3.        ,\n",
        "        3.46410162,  4.12310563,  4.89897949,  5.74456265,  5.38516481,\n",
        "        4.69041576,  4.12310563,  3.74165739,  3.60555128,  3.74165739,\n",
        "        4.12310563,  4.69041576,  5.38516481,  6.        ,  5.38516481,\n",
        "        4.89897949,  4.58257569,  4.47213595,  4.58257569,  4.89897949,\n",
        "        5.38516481,  6.        ,  5.74456265,  5.47722558,  5.38516481,\n",
        "        5.47722558,  5.74456265,  5.91607978,  5.47722558,  5.19615242,\n",
        "        5.09901951,  5.19615242,  5.47722558,  5.91607978,  5.74456265,\n",
        "        5.09901951,  4.58257569,  4.24264069,  4.12310563,  4.24264069,\n",
        "        4.58257569,  5.09901951,  5.74456265,  5.91607978,  5.09901951,\n",
        "        4.35889894,  3.74165739,  3.31662479,  3.16227766,  3.31662479,\n",
        "        3.74165739,  4.35889894,  5.09901951,  5.91607978,  5.47722558,\n",
        "        4.58257569,  3.74165739,  3.        ,  2.44948974,  2.23606798,\n",
        "        2.44948974,  3.        ,  3.74165739,  4.58257569,  5.47722558,\n",
        "        5.19615242,  4.24264069,  3.31662479,  2.44948974,  1.73205081,\n",
        "        1.41421356,  1.73205081,  2.44948974,  3.31662479,  4.24264069,\n",
        "        5.19615242,  5.09901951,  4.12310563,  3.16227766,  2.23606798,\n",
        "        1.41421356,  1.        ,  1.41421356,  2.23606798,  3.16227766,\n",
        "        4.12310563,  5.09901951,  5.19615242,  4.24264069,  3.31662479,\n",
        "        2.44948974,  1.73205081,  1.41421356,  1.73205081,  2.44948974,\n",
        "        3.31662479,  4.24264069,  5.19615242,  5.47722558,  4.58257569,\n",
        "        3.74165739,  3.        ,  2.44948974,  2.23606798,  2.44948974,\n",
        "        3.        ,  3.74165739,  4.58257569,  5.47722558,  5.91607978,\n",
        "        5.09901951,  4.35889894,  3.74165739,  3.31662479,  3.16227766,\n",
        "        3.31662479,  3.74165739,  4.35889894,  5.09901951,  5.91607978,\n",
        "        5.74456265,  5.09901951,  4.58257569,  4.24264069,  4.12310563,\n",
        "        4.24264069,  4.58257569,  5.09901951,  5.74456265,  5.91607978,\n",
        "        5.47722558,  5.19615242,  5.09901951,  5.19615242,  5.47722558,\n",
        "        5.91607978,  6.        ,  5.83095189,  5.38516481,  5.09901951,\n",
        "        5.        ,  5.09901951,  5.38516481,  5.83095189,  5.65685425,\n",
        "        5.        ,  4.47213595,  4.12310563,  4.        ,  4.12310563,\n",
        "        4.47213595,  5.        ,  5.65685425,  5.83095189,  5.        ,\n",
        "        4.24264069,  3.60555128,  3.16227766,  3.        ,  3.16227766,\n",
        "        3.60555128,  4.24264069,  5.        ,  5.83095189,  5.38516481,\n",
        "        4.47213595,  3.60555128,  2.82842712,  2.23606798,  2.        ,\n",
        "        2.23606798,  2.82842712,  3.60555128,  4.47213595,  5.38516481,\n",
        "        5.09901951,  4.12310563,  3.16227766,  2.23606798,  1.41421356,\n",
        "        1.        ,  1.41421356,  2.23606798,  3.16227766,  4.12310563,\n",
        "        5.09901951,  6.        ,  5.        ,  4.        ,  3.        ,\n",
        "        2.        ,  1.        ,  1.        ,  2.        ,  3.        ,\n",
        "        4.        ,  5.        ,  6.        ,  5.09901951,  4.12310563,\n",
        "        3.16227766,  2.23606798,  1.41421356,  1.        ,  1.41421356,\n",
        "        2.23606798,  3.16227766,  4.12310563,  5.09901951,  5.38516481,\n",
        "        4.47213595,  3.60555128,  2.82842712,  2.23606798,  2.        ,\n",
        "        2.23606798,  2.82842712,  3.60555128,  4.47213595,  5.38516481,\n",
        "        5.83095189,  5.        ,  4.24264069,  3.60555128,  3.16227766,\n",
        "        3.        ,  3.16227766,  3.60555128,  4.24264069,  5.        ,\n",
        "        5.83095189,  5.65685425,  5.        ,  4.47213595,  4.12310563,\n",
        "        4.        ,  4.12310563,  4.47213595,  5.        ,  5.65685425,\n",
        "        5.83095189,  5.38516481,  5.09901951,  5.        ,  5.09901951,\n",
        "        5.38516481,  5.83095189,  6.        ,  5.91607978,  5.47722558,\n",
        "        5.19615242,  5.09901951,  5.19615242,  5.47722558,  5.91607978,\n",
        "        5.74456265,  5.09901951,  4.58257569,  4.24264069,  4.12310563,\n",
        "        4.24264069,  4.58257569,  5.09901951,  5.74456265,  5.91607978,\n",
        "        5.09901951,  4.35889894,  3.74165739,  3.31662479,  3.16227766,\n",
        "        3.31662479,  3.74165739,  4.35889894,  5.09901951,  5.91607978,\n",
        "        5.47722558,  4.58257569,  3.74165739,  3.        ,  2.44948974,\n",
        "        2.23606798,  2.44948974,  3.        ,  3.74165739,  4.58257569,\n",
        "        5.47722558,  5.19615242,  4.24264069,  3.31662479,  2.44948974,\n",
        "        1.73205081,  1.41421356,  1.73205081,  2.44948974,  3.31662479,\n",
        "        4.24264069,  5.19615242,  5.09901951,  4.12310563,  3.16227766,\n",
        "        2.23606798,  1.41421356,  1.        ,  1.41421356,  2.23606798,\n",
        "        3.16227766,  4.12310563,  5.09901951,  5.19615242,  4.24264069,\n",
        "        3.31662479,  2.44948974,  1.73205081,  1.41421356,  1.73205081,\n",
        "        2.44948974,  3.31662479,  4.24264069,  5.19615242,  5.47722558,\n",
        "        4.58257569,  3.74165739,  3.        ,  2.44948974,  2.23606798,\n",
        "        2.44948974,  3.        ,  3.74165739,  4.58257569,  5.47722558,\n",
        "        5.91607978,  5.09901951,  4.35889894,  3.74165739,  3.31662479,\n",
        "        3.16227766,  3.31662479,  3.74165739,  4.35889894,  5.09901951,\n",
        "        5.91607978,  5.74456265,  5.09901951,  4.58257569,  4.24264069,\n",
        "        4.12310563,  4.24264069,  4.58257569,  5.09901951,  5.74456265,\n",
        "        5.91607978,  5.47722558,  5.19615242,  5.09901951,  5.19615242,\n",
        "        5.47722558,  5.91607978,  5.74456265,  5.47722558,  5.38516481,\n",
        "        5.47722558,  5.74456265,  6.        ,  5.38516481,  4.89897949,\n",
        "        4.58257569,  4.47213595,  4.58257569,  4.89897949,  5.38516481,\n",
        "        6.        ,  5.38516481,  4.69041576,  4.12310563,  3.74165739,\n",
        "        3.60555128,  3.74165739,  4.12310563,  4.69041576,  5.38516481,\n",
        "        5.74456265,  4.89897949,  4.12310563,  3.46410162,  3.        ,\n",
        "        2.82842712,  3.        ,  3.46410162,  4.12310563,  4.89897949,\n",
        "        5.74456265,  5.47722558,  4.58257569,  3.74165739,  3.        ,\n",
        "        2.44948974,  2.23606798,  2.44948974,  3.        ,  3.74165739,\n",
        "        4.58257569,  5.47722558,  5.38516481,  4.47213595,  3.60555128,\n",
        "        2.82842712,  2.23606798,  2.        ,  2.23606798,  2.82842712,\n",
        "        3.60555128,  4.47213595,  5.38516481,  5.47722558,  4.58257569,\n",
        "        3.74165739,  3.        ,  2.44948974,  2.23606798,  2.44948974,\n",
        "        3.        ,  3.74165739,  4.58257569,  5.47722558,  5.74456265,\n",
        "        4.89897949,  4.12310563,  3.46410162,  3.        ,  2.82842712,\n",
        "        3.        ,  3.46410162,  4.12310563,  4.89897949,  5.74456265,\n",
        "        5.38516481,  4.69041576,  4.12310563,  3.74165739,  3.60555128,\n",
        "        3.74165739,  4.12310563,  4.69041576,  5.38516481,  6.        ,\n",
        "        5.38516481,  4.89897949,  4.58257569,  4.47213595,  4.58257569,\n",
        "        4.89897949,  5.38516481,  6.        ,  5.74456265,  5.47722558,\n",
        "        5.38516481,  5.47722558,  5.74456265,  5.91607978,  5.83095189,\n",
        "        5.91607978,  5.83095189,  5.38516481,  5.09901951,  5.        ,\n",
        "        5.09901951,  5.38516481,  5.83095189,  5.83095189,  5.19615242,\n",
        "        4.69041576,  4.35889894,  4.24264069,  4.35889894,  4.69041576,\n",
        "        5.19615242,  5.83095189,  5.38516481,  4.69041576,  4.12310563,\n",
        "        3.74165739,  3.60555128,  3.74165739,  4.12310563,  4.69041576,\n",
        "        5.38516481,  5.91607978,  5.09901951,  4.35889894,  3.74165739,\n",
        "        3.31662479,  3.16227766,  3.31662479,  3.74165739,  4.35889894,\n",
        "        5.09901951,  5.91607978,  5.83095189,  5.        ,  4.24264069,\n",
        "        3.60555128,  3.16227766,  3.        ,  3.16227766,  3.60555128,\n",
        "        4.24264069,  5.        ,  5.83095189,  5.91607978,  5.09901951,\n",
        "        4.35889894,  3.74165739,  3.31662479,  3.16227766,  3.31662479,\n",
        "        3.74165739,  4.35889894,  5.09901951,  5.91607978,  5.38516481,\n",
        "        4.69041576,  4.12310563,  3.74165739,  3.60555128,  3.74165739,\n",
        "        4.12310563,  4.69041576,  5.38516481,  5.83095189,  5.19615242,\n",
        "        4.69041576,  4.35889894,  4.24264069,  4.35889894,  4.69041576,\n",
        "        5.19615242,  5.83095189,  5.83095189,  5.38516481,  5.09901951,\n",
        "        5.        ,  5.09901951,  5.38516481,  5.83095189,  5.91607978,\n",
        "        5.83095189,  5.91607978,  6.        ,  5.74456265,  5.65685425,\n",
        "        5.74456265,  6.        ,  5.83095189,  5.38516481,  5.09901951,\n",
        "        5.        ,  5.09901951,  5.38516481,  5.83095189,  6.        ,\n",
        "        5.38516481,  4.89897949,  4.58257569,  4.47213595,  4.58257569,\n",
        "        4.89897949,  5.38516481,  6.        ,  5.74456265,  5.09901951,\n",
        "        4.58257569,  4.24264069,  4.12310563,  4.24264069,  4.58257569,\n",
        "        5.09901951,  5.74456265,  5.65685425,  5.        ,  4.47213595,\n",
        "        4.12310563,  4.        ,  4.12310563,  4.47213595,  5.        ,\n",
        "        5.65685425,  5.74456265,  5.09901951,  4.58257569,  4.24264069,\n",
        "        4.12310563,  4.24264069,  4.58257569,  5.09901951,  5.74456265,\n",
        "        6.        ,  5.38516481,  4.89897949,  4.58257569,  4.47213595,\n",
        "        4.58257569,  4.89897949,  5.38516481,  6.        ,  5.83095189,\n",
        "        5.38516481,  5.09901951,  5.        ,  5.09901951,  5.38516481,\n",
        "        5.83095189,  6.        ,  5.74456265,  5.65685425,  5.74456265,\n",
        "        6.        ,  5.91607978,  5.83095189,  5.91607978,  5.74456265,\n",
        "        5.47722558,  5.38516481,  5.47722558,  5.74456265,  5.91607978,\n",
        "        5.47722558,  5.19615242,  5.09901951,  5.19615242,  5.47722558,\n",
        "        5.91607978,  5.83095189,  5.38516481,  5.09901951,  5.        ,\n",
        "        5.09901951,  5.38516481,  5.83095189,  5.91607978,  5.47722558,\n",
        "        5.19615242,  5.09901951,  5.19615242,  5.47722558,  5.91607978,\n",
        "        5.74456265,  5.47722558,  5.38516481,  5.47722558,  5.74456265,\n",
        "        5.91607978,  5.83095189,  5.91607978,  6.        ])"
       ]
      }
     ],
     "prompt_number": 109
    },
    {
     "cell_type": "code",
     "collapsed": false,
     "input": [],
     "language": "python",
     "metadata": {},
     "outputs": []
    },
    {
     "cell_type": "code",
     "collapsed": false,
     "input": [],
     "language": "python",
     "metadata": {},
     "outputs": []
    },
    {
     "cell_type": "code",
     "collapsed": false,
     "input": [],
     "language": "python",
     "metadata": {},
     "outputs": []
    },
    {
     "cell_type": "code",
     "collapsed": false,
     "input": [],
     "language": "python",
     "metadata": {},
     "outputs": []
    }
   ],
   "metadata": {}
  }
 ]
}