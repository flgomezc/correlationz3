{
 "metadata": {
  "name": "",
  "signature": "sha256:e6b6ace0a0cf1d4cb8d18816540e466c84d792c1e6b3ba14b55c3506014c30e3"
 },
 "nbformat": 3,
 "nbformat_minor": 0,
 "worksheets": [
  {
   "cells": [
    {
     "cell_type": "code",
     "collapsed": false,
     "input": [
      "%pylab inline"
     ],
     "language": "python",
     "metadata": {},
     "outputs": [
      {
       "output_type": "stream",
       "stream": "stdout",
       "text": [
        "Populating the interactive namespace from numpy and matplotlib\n"
       ]
      }
     ],
     "prompt_number": 1
    },
    {
     "cell_type": "markdown",
     "metadata": {},
     "source": [
      "Divide the original volume in $25^3$ cubic cells, with $V = 10^3$Mpc$^3h^{-1}$, each one with $\\sim 12.000$ halos."
     ]
    },
    {
     "cell_type": "code",
     "collapsed": false,
     "input": [
      "250**3 / 25**3"
     ],
     "language": "python",
     "metadata": {},
     "outputs": [
      {
       "metadata": {},
       "output_type": "pyout",
       "prompt_number": 2,
       "text": [
        "1000"
       ]
      }
     ],
     "prompt_number": 2
    },
    {
     "cell_type": "code",
     "collapsed": false,
     "input": [
      "S = 50\n",
      "\n",
      "lattice = np.zeros([S,S,S])\n",
      "dist    = []\n",
      "\n",
      "for i in range(S):\n",
      "    for j in range(S):\n",
      "        for k in range(S):\n",
      "            lattice[i,j,k] = 10*( (S/2.0 -i)**2 + (S/2 -j)**2 + (S/2 -k)**2)**0.5\n",
      "            if lattice[i,j,k]<100 :\n",
      "                dist.append(lattice[i,j,k])"
     ],
     "language": "python",
     "metadata": {},
     "outputs": [],
     "prompt_number": 3
    },
    {
     "cell_type": "code",
     "collapsed": false,
     "input": [
      "DistRange = np.logspace(log10(0.05),log10(100),100)\n",
      "hist(dist, bins=DistRange, log='true')\n",
      "gca().set_xscale('log')"
     ],
     "language": "python",
     "metadata": {},
     "outputs": [
      {
       "metadata": {},
       "output_type": "display_data",
       "png": "[encoded data removed]",
       "text": [
        "<matplotlib.figure.Figure at 0x105fb9790>"
       ]
      }
     ],
     "prompt_number": 4
    },
    {
     "cell_type": "code",
     "collapsed": false,
     "input": [
      "DistRange = np.logspace(log10(0.05),log10(100),20)\n",
      "hist(dist, bins=DistRange, log='true')\n",
      "gca().set_xscale('log')"
     ],
     "language": "python",
     "metadata": {},
     "outputs": [
      {
       "metadata": {},
       "output_type": "display_data",
       "png": "[encoded data removed]",
       "text": [
        "<matplotlib.figure.Figure at 0x1069bef90>"
       ]
      }
     ],
     "prompt_number": 5
    },
    {
     "cell_type": "code",
     "collapsed": false,
     "input": [
      "lattice[25,25,25]"
     ],
     "language": "python",
     "metadata": {},
     "outputs": [
      {
       "metadata": {},
       "output_type": "pyout",
       "prompt_number": 6,
       "text": [
        "0.0"
       ]
      }
     ],
     "prompt_number": 6
    },
    {
     "cell_type": "code",
     "collapsed": false,
     "input": [
      "index=where(lattice<=10)"
     ],
     "language": "python",
     "metadata": {},
     "outputs": [],
     "prompt_number": 7
    },
    {
     "cell_type": "code",
     "collapsed": false,
     "input": [
      "index"
     ],
     "language": "python",
     "metadata": {},
     "outputs": [
      {
       "metadata": {},
       "output_type": "pyout",
       "prompt_number": 8,
       "text": [
        "(array([24, 25, 25, 25, 25, 25, 26]),\n",
        " array([25, 24, 25, 25, 25, 26, 25]),\n",
        " array([25, 25, 24, 25, 26, 25, 25]))"
       ]
      }
     ],
     "prompt_number": 8
    },
    {
     "cell_type": "code",
     "collapsed": false,
     "input": [
      "dist = np.array(dist)"
     ],
     "language": "python",
     "metadata": {},
     "outputs": [],
     "prompt_number": 9
    },
    {
     "cell_type": "code",
     "collapsed": false,
     "input": [
      "index = where( (dist>0) & (dist<=20) )\n",
      "len(index[0])"
     ],
     "language": "python",
     "metadata": {},
     "outputs": [
      {
       "metadata": {},
       "output_type": "pyout",
       "prompt_number": 10,
       "text": [
        "32"
       ]
      }
     ],
     "prompt_number": 10
    },
    {
     "cell_type": "code",
     "collapsed": false,
     "input": [
      "dist[index]"
     ],
     "language": "python",
     "metadata": {},
     "outputs": [
      {
       "metadata": {},
       "output_type": "pyout",
       "prompt_number": 11,
       "text": [
        "array([ 20.        ,  17.32050808,  14.14213562,  17.32050808,\n",
        "        14.14213562,  10.        ,  14.14213562,  17.32050808,\n",
        "        14.14213562,  17.32050808,  20.        ,  14.14213562,\n",
        "        10.        ,  14.14213562,  20.        ,  10.        ,\n",
        "        10.        ,  20.        ,  14.14213562,  10.        ,\n",
        "        14.14213562,  20.        ,  17.32050808,  14.14213562,\n",
        "        17.32050808,  14.14213562,  10.        ,  14.14213562,\n",
        "        17.32050808,  14.14213562,  17.32050808,  20.        ])"
       ]
      }
     ],
     "prompt_number": 11
    },
    {
     "cell_type": "code",
     "collapsed": false,
     "input": [],
     "language": "python",
     "metadata": {},
     "outputs": []
    }
   ],
   "metadata": {}
  }
 ]
}