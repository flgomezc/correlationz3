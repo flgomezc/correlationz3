{
 "metadata": {
  "name": "",
  "signature": "sha256:9c355e513e0efb81d18452d910926fc4d5865e6bd7961a91261454d7f84a9b6f"
 },
 "nbformat": 3,
 "nbformat_minor": 0,
 "worksheets": [
  {
   "cells": [
    {
     "cell_type": "code",
     "collapsed": false,
     "input": [
      "%pylab inline\n",
      "import numpy as np\n",
      "import random\n",
      "import timeit\n",
      "import csv"
     ],
     "language": "python",
     "metadata": {},
     "outputs": [
      {
       "output_type": "stream",
       "stream": "stdout",
       "text": [
        "Populating the interactive namespace from numpy and matplotlib\n"
       ]
      }
     ],
     "prompt_number": 1
    },
    {
     "cell_type": "code",
     "collapsed": false,
     "input": [
      "NumBins = 20\n",
      "BinsLog = 10**(np.linspace(-1.5,log10(60),NumBins+1)) \n",
      "BinsLin = linspace(0,60,NumBins+1)  ## 0-60 Mpc h-1\n",
      "\n",
      "countLogDD = np.zeros(NumBins)\n",
      "countLogDR = np.zeros(NumBins)\n",
      "countLogRR = np.zeros(NumBins)\n",
      "\n",
      "countLinDD = np.zeros(NumBins)\n",
      "countLinDR = np.zeros(NumBins)\n",
      "countLinRR = np.zeros(NumBins)"
     ],
     "language": "python",
     "metadata": {},
     "outputs": [],
     "prompt_number": 2
    },
    {
     "cell_type": "code",
     "collapsed": false,
     "input": [
      "##### To create catalogs\n",
      "\"\"\"\n",
      "Catalog = np.loadtxt('../data/BolshoiP_bdmV.csv', skiprows=1, delimiter=',', usecols=[3,4,5,6])\n",
      "\n",
      "index = np.where(Catalog[:,3]>5*10**11)\n",
      "\n",
      "SmallCatalog = np.array(Catalog[index])\n",
      "\n",
      "Data = open('../data/UltraSmallCatalog.csv', 'w')\n",
      "for line in SmallCatalog:\n",
      "    Data.write(str(line[0])+','+str(line[1])+','+str(line[2])+'\\n')\n",
      "Data.close()\n",
      "\"\"\"\n",
      "\n",
      "## x,y,z\n",
      "## i,j,k\n",
      "## l,m,n\n",
      "neighbors=[]\n",
      "for n in range(20):\n",
      "    for m in range(20):\n",
      "        for l in range(20):\n",
      "            AUX=[]\n",
      "            for k in range(20):\n",
      "                for j in range(20):\n",
      "                    for i in range(20):\n",
      "                        aux = ((l-i)**2 + (m-j)**2 + (n-k)**2)**0.5\n",
      "                        if aux<=5.0:\n",
      "                            #print i,j,k,'\\t', i + 20*j + 20*20*k\n",
      "                            AUX.append( i + 20*j + 20*20*k)\n",
      "            neighbors.append(AUX)\n",
      "            \n",
      "\"\"\"\n",
      "file = open('../data/neighbors.csv','w')\n",
      "for j in range(len(neighbors)):\n",
      "    for i in range(len(neighbors[j])):\n",
      "        file.write(str(neighbors[j][i])+',')\n",
      "    file.write('\\n')\n",
      "file.close()\n",
      "\"\"\"\n",
      "\n",
      "#### When they are created, to call them\n",
      "SmallCatalog=np.loadtxt('../data/UltraSmallCatalog.csv', skiprows=0, delimiter=',')\n"
     ],
     "language": "python",
     "metadata": {},
     "outputs": [],
     "prompt_number": 3
    },
    {
     "cell_type": "code",
     "collapsed": false,
     "input": [
      "SmallCatalog.shape"
     ],
     "language": "python",
     "metadata": {},
     "outputs": [
      {
       "metadata": {},
       "output_type": "pyout",
       "prompt_number": 4,
       "text": [
        "(30752, 3)"
       ]
      }
     ],
     "prompt_number": 4
    },
    {
     "cell_type": "code",
     "collapsed": false,
     "input": [
      "### This matrix divides the space in 8.000 cells (20x20x20)\n",
      "\n",
      "matrix = np.zeros([SmallCatalog.shape[0],4], dtype=int16)\n",
      "\n",
      "index = 0\n",
      "for i in range(0,3):\n",
      "    for j in range(20):\n",
      "        index = np.where((j*12.5<SmallCatalog[:,i]) & (SmallCatalog[:,i]<(j+1)*12.5))[0]\n",
      "        matrix[index[:],i+1] = j\n",
      "\n",
      "#            x,y,z    also  (i,j,k)  and   (l,m,n)\n",
      "# Box   0 at 0,0,0\n",
      "# Box   1 at 1,0,0\n",
      "# Box  20 at 0,1,0\n",
      "# Box 400 at 0,0,1\n",
      "\n",
      "for line in matrix:\n",
      "    line[0] = line[1] + 20*line[2] +  20*20*line[3] "
     ],
     "language": "python",
     "metadata": {},
     "outputs": [],
     "prompt_number": 5
    },
    {
     "cell_type": "code",
     "collapsed": false,
     "input": [
      "start = timeit.default_timer() \n",
      "\n",
      "#\n",
      "#                                PARALLELIZABLE \n",
      "#\n",
      "#                   (here) is where the code can be divided to each processor.\n",
      "for Cell_1 in range (0,100 ):  # full range = (0,8000)\n",
      "    # Select one cell\n",
      "    index1 = np.where(matrix[:,0]==Cell_1)[0]\n",
      "    # If the selected cell contains 0 halos, skip\n",
      "    if len(index1)==0:\n",
      "        pass\n",
      "\n",
      "    else:\n",
      "        # Select cells in the spherical neighborhood of radius R<5*12.5 Mpc\n",
      "        for Cell_2 in neighbors[Cell_1]:\n",
      "            index2 = np.where(matrix[:,0]==Cell_2)[0]\n",
      "\n",
      "            # If the selected cell contains 0 halos, skip\n",
      "            if len(index2)==0:\n",
      "                pass\n",
      "\n",
      "            else:\n",
      "                ##### Start pair counting between Cell_1 and Cell_2\n",
      "                r_aux = []\n",
      "                DistMatrix = np.zeros([len(index2),7]) \n",
      "                # x1, y1, z1, x2, y2, z2,  distance #\n",
      "\n",
      "                # Position of each halo in Cell_2\n",
      "                DistMatrix[:,0] = SmallCatalog[index2,0]\n",
      "                DistMatrix[:,1] = SmallCatalog[index2,1]\n",
      "                DistMatrix[:,2] = SmallCatalog[index2,2]\n",
      "                \n",
      "                for HaloNumber in index1:\n",
      "                    # Position of the reference halo\n",
      "                    DistMatrix[:,3] = SmallCatalog[HaloNumber,0]\n",
      "                    DistMatrix[:,4] = SmallCatalog[HaloNumber,1]\n",
      "                    DistMatrix[:,5] = SmallCatalog[HaloNumber,2]\n",
      "                    \n",
      "                    # Calculate the distanche to each halo in Cell_1\n",
      "                    r_aux = 0\n",
      "                    for i in range(3):\n",
      "                        r_aux += ( DistMatrix[:,i]-DistMatrix[:,i+3] )**2\n",
      "                    DistMatrix[:,6] = r_aux**0.5\n",
      "                    \n",
      "                    for m in range(NumBins):\n",
      "                        indexLog = np.where((BinsLog[m]<DistMatrix[:,6]) &\n",
      "                                            (DistMatrix[:,6]<=BinsLog[m+1]))[0]\n",
      "                        countLogDD[m] += len(indexLog)\n",
      "                        indexLin = np.where((BinsLin[m]<DistMatrix[:,6]) &\n",
      "                                            (DistMatrix[:,6]<=BinsLin[m+1]))[0]\n",
      "                        countLinDD[m] += len(indexLin)\n",
      "                    \n",
      "                \n",
      "stop = timeit.default_timer() \n",
      "print stop - start"
     ],
     "language": "python",
     "metadata": {},
     "outputs": [
      {
       "output_type": "stream",
       "stream": "stdout",
       "text": [
        "20.5849070549\n"
       ]
      }
     ],
     "prompt_number": 13
    },
    {
     "cell_type": "code",
     "collapsed": false,
     "input": [
      "indexLin"
     ],
     "language": "python",
     "metadata": {},
     "outputs": [
      {
       "metadata": {},
       "output_type": "pyout",
       "prompt_number": 11,
       "text": [
        "array([3, 4, 5, 7])"
       ]
      }
     ],
     "prompt_number": 11
    },
    {
     "cell_type": "code",
     "collapsed": false,
     "input": [
      "len(indexLin)"
     ],
     "language": "python",
     "metadata": {},
     "outputs": [
      {
       "metadata": {},
       "output_type": "pyout",
       "prompt_number": 12,
       "text": [
        "4"
       ]
      }
     ],
     "prompt_number": 12
    },
    {
     "cell_type": "code",
     "collapsed": false,
     "input": [],
     "language": "python",
     "metadata": {},
     "outputs": []
    }
   ],
   "metadata": {}
  }
 ]
}