{
 "metadata": {
  "name": "",
  "signature": "sha256:7ea7f671050ee8a8e5189c0b771af206ea5fbc28e56171590f5d2e64ce29c049"
 },
 "nbformat": 3,
 "nbformat_minor": 0,
 "worksheets": [
  {
   "cells": [
    {
     "cell_type": "code",
     "collapsed": false,
     "input": [
      "%pylab inline"
     ],
     "language": "python",
     "metadata": {},
     "outputs": [
      {
       "output_type": "stream",
       "stream": "stdout",
       "text": [
        "Populating the interactive namespace from numpy and matplotlib\n"
       ]
      }
     ],
     "prompt_number": 1
    },
    {
     "cell_type": "code",
     "collapsed": false,
     "input": [
      "# \"row_id\",\"bdmId\",\"hostFlag\",\"x\",\"y\",\"z\",\"Mvir\"\n",
      "#    0    ,  1    ,   2      , 3 , 4 , 5 , 6\n",
      "\n",
      "DATA = np.genfromtxt(\"../data/BolshoiP_bdmV.csv\", delimiter=',', \n",
      "                     usecols=(3,4,5,6), skip_header=1); \n",
      "HALOID = np.genfromtxt(\"../data/BolshoiP_bdmV.csv\", dtype=int, \n",
      "                       delimiter=',', usecols=(1,2), skip_header=1)"
     ],
     "language": "python",
     "metadata": {},
     "outputs": [],
     "prompt_number": 2
    },
    {
     "cell_type": "code",
     "collapsed": false,
     "input": [
      "print \"Mass Min =\", DATA[:,3].min(), \"\\tMass Max=\", DATA[:,3].max()"
     ],
     "language": "python",
     "metadata": {},
     "outputs": [
      {
       "output_type": "stream",
       "stream": "stdout",
       "text": [
        "Mass Min = "
       ]
      },
      {
       "output_type": "stream",
       "stream": "stdout",
       "text": [
        "1549700000.0 \tMass Max= 2.5047e+13\n"
       ]
      }
     ],
     "prompt_number": 3
    },
    {
     "cell_type": "code",
     "collapsed": true,
     "input": [
      "Mrange = logspace( log10(DATA[:,3].min()),log10(DATA[:,3].max()),20)"
     ],
     "language": "python",
     "metadata": {},
     "outputs": [],
     "prompt_number": 4
    },
    {
     "cell_type": "code",
     "collapsed": false,
     "input": [
      "plot\n",
      "hist( DATA[:,3], bins=Mrange, log=True)\n",
      "gca().set_xscale('log')\n",
      "xlabel(r'Mass $[M_{\\odot}h^{-1}]$')\n",
      "title('Mass Function')"
     ],
     "language": "python",
     "metadata": {},
     "outputs": [
      {
       "metadata": {},
       "output_type": "pyout",
       "prompt_number": 5,
       "text": [
        "<matplotlib.text.Text at 0x1e3f028d0>"
       ]
      },
      {
       "metadata": {},
       "output_type": "display_data",
       "png": "[encoded data removed]",
       "text": [
        "<matplotlib.figure.Figure at 0x1060ba910>"
       ]
      }
     ],
     "prompt_number": 5
    },
    {
     "cell_type": "code",
     "collapsed": false,
     "input": [
      "# Find all the halos in the cell x=[0,2.5]Mpc, y=[0,2.5]Mpc and z=[0,2.5]Mpc\n",
      "\n",
      "index = where( (DATA[:,0]<10) & (DATA[:,1]<10) &  (DATA[:,2]<10) )"
     ],
     "language": "python",
     "metadata": {},
     "outputs": [],
     "prompt_number": 6
    },
    {
     "cell_type": "code",
     "collapsed": false,
     "input": [
      "DATA[index]"
     ],
     "language": "python",
     "metadata": {},
     "outputs": [
      {
       "metadata": {},
       "output_type": "pyout",
       "prompt_number": 7,
       "text": [
        "array([[  6.27860000e+00,   8.69400000e-01,   4.46420000e+00,\n",
        "          1.54970000e+09],\n",
        "       [  7.50330000e+00,   1.57090000e+00,   7.41140000e+00,\n",
        "          1.70460000e+09],\n",
        "       [  3.78700000e+00,   1.53460000e+00,   4.66000000e-01,\n",
        "          2.16950000e+09],\n",
        "       ..., \n",
        "       [  3.45970000e+00,   4.46510000e+00,   9.66050000e+00,\n",
        "          7.57790000e+10],\n",
        "       [  9.56940000e+00,   3.49660000e+00,   3.48870000e+00,\n",
        "          1.50470000e+11],\n",
        "       [  8.04950000e+00,   6.53210000e+00,   9.39230000e+00,\n",
        "          1.62710000e+11]])"
       ]
      }
     ],
     "prompt_number": 7
    },
    {
     "cell_type": "code",
     "collapsed": false,
     "input": [
      "index[0].shape"
     ],
     "language": "python",
     "metadata": {},
     "outputs": [
      {
       "metadata": {},
       "output_type": "pyout",
       "prompt_number": 10,
       "text": [
        "(1206,)"
       ]
      }
     ],
     "prompt_number": 10
    },
    {
     "cell_type": "code",
     "collapsed": false,
     "input": [
      "subDATA = DATA[index]"
     ],
     "language": "python",
     "metadata": {},
     "outputs": [],
     "prompt_number": 62
    },
    {
     "cell_type": "code",
     "collapsed": false,
     "input": [
      "cell = [open('../data/cells/%i.cvs' %filenumber, 'w') for filenumber in range(0,1)]"
     ],
     "language": "python",
     "metadata": {},
     "outputs": [],
     "prompt_number": 63
    },
    {
     "cell_type": "code",
     "collapsed": false,
     "input": [
      "cell[0]"
     ],
     "language": "python",
     "metadata": {},
     "outputs": [
      {
       "metadata": {},
       "output_type": "pyout",
       "prompt_number": 64,
       "text": [
        "<open file '../data/cells/0.dat', mode 'w' at 0x18216adb0>"
       ]
      }
     ],
     "prompt_number": 64
    },
    {
     "cell_type": "code",
     "collapsed": false,
     "input": [
      "cell[0].write('# X(Mpch-1), Y(Mpch-1), Z(Mpch-1), Mass(Msunh-1)\\n')"
     ],
     "language": "python",
     "metadata": {},
     "outputs": [],
     "prompt_number": 65
    },
    {
     "cell_type": "code",
     "collapsed": false,
     "input": [
      "for i in range(len(index[0])):\n",
      "    cell[0].write(str(subDATA[i,0])+','+str(subDATA[i,1])+','+str(subDATA[i,2])+','+str(subDATA[i,3])+'\\n')\n",
      "cell[0].close()"
     ],
     "language": "python",
     "metadata": {},
     "outputs": [],
     "prompt_number": 66
    },
    {
     "cell_type": "code",
     "collapsed": false,
     "input": [
      "cell"
     ],
     "language": "python",
     "metadata": {},
     "outputs": [
      {
       "metadata": {},
       "output_type": "pyout",
       "prompt_number": 67,
       "text": [
        "[<closed file '../data/cells/0.dat', mode 'w' at 0x18216adb0>]"
       ]
      }
     ],
     "prompt_number": 67
    },
    {
     "cell_type": "code",
     "collapsed": false,
     "input": [],
     "language": "python",
     "metadata": {},
     "outputs": [
      {
       "metadata": {},
       "output_type": "pyout",
       "prompt_number": 48,
       "text": [
        "(1206, 4)"
       ]
      }
     ],
     "prompt_number": 48
    },
    {
     "cell_type": "code",
     "collapsed": false,
     "input": [],
     "language": "python",
     "metadata": {},
     "outputs": []
    }
   ],
   "metadata": {}
  }
 ]
}