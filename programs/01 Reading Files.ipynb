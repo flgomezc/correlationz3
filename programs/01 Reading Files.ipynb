{
 "metadata": {
  "name": "",
  "signature": "sha256:204fef73198abe0daff69ed4514694957d8f81f012a77ebecd67ca321c588132"
 },
 "nbformat": 3,
 "nbformat_minor": 0,
 "worksheets": [
  {
   "cells": [
    {
     "cell_type": "code",
     "collapsed": false,
     "input": [
      "%pylab inline"
     ],
     "language": "python",
     "metadata": {},
     "outputs": [
      {
       "output_type": "stream",
       "stream": "stdout",
       "text": [
        "Populating the interactive namespace from numpy and matplotlib\n"
       ]
      }
     ],
     "prompt_number": 1
    },
    {
     "cell_type": "code",
     "collapsed": false,
     "input": [
      "# \"row_id\",\"bdmId\",\"hostFlag\",\"x\",\"y\",\"z\",\"Mvir\"\n",
      "#    0    ,  1    ,   2      , 3 , 4 , 5 , 6\n",
      "\n",
      "DATA = np.genfromtxt(\"../data/BolshoiP_bdmV.csv\", delimiter=',', \n",
      "                     usecols=(3,4,5,6), skip_header=1); \n",
      "HALOID = np.genfromtxt(\"../data/BolshoiP_bdmV.csv\", dtype=int, \n",
      "                       delimiter=',', usecols=(1,2), skip_header=1)"
     ],
     "language": "python",
     "metadata": {},
     "outputs": [],
     "prompt_number": 2
    },
    {
     "cell_type": "code",
     "collapsed": true,
     "input": [
      "Mrange = logspace( log10(DATA[:,3].min()),log10(DATA[:,3].max()),20)"
     ],
     "language": "python",
     "metadata": {},
     "outputs": [],
     "prompt_number": 3
    },
    {
     "cell_type": "code",
     "collapsed": false,
     "input": [
      "plot\n",
      "hist( DATA[:,3], bins=Mrange, log=True)\n",
      "gca().set_xscale('log')\n",
      "xlabel(r'Mass $[M_{\\odot}h^{-1}]$')\n",
      "title('Mass Function')"
     ],
     "language": "python",
     "metadata": {},
     "outputs": [
      {
       "metadata": {},
       "output_type": "pyout",
       "prompt_number": 4,
       "text": [
        "<matplotlib.text.Text at 0x1e3e0b810>"
       ]
      },
      {
       "metadata": {},
       "output_type": "display_data",
       "png": "[encoded data removed]",
       "text": [
        "<matplotlib.figure.Figure at 0x105fe0910>"
       ]
      }
     ],
     "prompt_number": 4
    },
    {
     "cell_type": "code",
     "collapsed": false,
     "input": [
      "DATA"
     ],
     "language": "python",
     "metadata": {},
     "outputs": [
      {
       "metadata": {},
       "output_type": "pyout",
       "prompt_number": 13,
       "text": [
        "array([[  2.34520000e+00,   1.14344000e+01,   2.77476000e+01,\n",
        "          1.54970000e+09],\n",
        "       [  8.69400000e-01,   4.46420000e+00,   6.27860000e+00,\n",
        "          1.54970000e+09],\n",
        "       [  9.65770000e+00,   1.43655000e+01,   2.71341000e+01,\n",
        "          1.54970000e+09],\n",
        "       ..., \n",
        "       [  1.39477700e+02,   1.60837000e+02,   2.38031900e+02,\n",
        "          1.04450000e+13],\n",
        "       [  3.29001000e+01,   4.66305000e+01,   7.10606000e+01,\n",
        "          1.21570000e+13],\n",
        "       [  4.84627000e+01,   1.16892600e+02,   1.22941000e+02,\n",
        "          2.05840000e+13]])"
       ]
      }
     ],
     "prompt_number": 13
    },
    {
     "cell_type": "code",
     "collapsed": false,
     "input": [
      "plot(DATA[:,3])\n",
      "yscale('log')"
     ],
     "language": "python",
     "metadata": {},
     "outputs": [
      {
       "metadata": {},
       "output_type": "display_data",
       "png": "[encoded data removed]",
       "text": [
        "<matplotlib.figure.Figure at 0x105fe0410>"
       ]
      }
     ],
     "prompt_number": 5
    },
    {
     "cell_type": "code",
     "collapsed": false,
     "input": [
      "DATA.shape[0]/(250.0**3)  ## Full catalog density number"
     ],
     "language": "python",
     "metadata": {},
     "outputs": [
      {
       "metadata": {},
       "output_type": "pyout",
       "prompt_number": 14,
       "text": [
        "0.809653248"
       ]
      }
     ],
     "prompt_number": 14
    },
    {
     "cell_type": "code",
     "collapsed": false,
     "input": [
      "n = 1.5e-2  ## COnroy Density Number"
     ],
     "language": "python",
     "metadata": {},
     "outputs": [],
     "prompt_number": 15
    },
    {
     "cell_type": "code",
     "collapsed": false,
     "input": [
      "N = int(n*(250.0**3))\n",
      "N"
     ],
     "language": "python",
     "metadata": {},
     "outputs": [
      {
       "metadata": {},
       "output_type": "pyout",
       "prompt_number": 41,
       "text": [
        "234375"
       ]
      }
     ],
     "prompt_number": 41
    },
    {
     "cell_type": "code",
     "collapsed": false,
     "input": [
      "index = np.where(DATA[:,3]>=10**11.0566)[0]\n",
      "index.size"
     ],
     "language": "python",
     "metadata": {},
     "outputs": [
      {
       "metadata": {},
       "output_type": "pyout",
       "prompt_number": 67,
       "text": [
        "234271"
       ]
      }
     ],
     "prompt_number": 67
    },
    {
     "cell_type": "code",
     "collapsed": false,
     "input": [
      "index.size/(250.0**3)"
     ],
     "language": "python",
     "metadata": {},
     "outputs": [
      {
       "metadata": {},
       "output_type": "pyout",
       "prompt_number": 68,
       "text": [
        "0.014993344"
       ]
      }
     ],
     "prompt_number": 68
    },
    {
     "cell_type": "code",
     "collapsed": false,
     "input": [
      "ReducedCat = DATA[index]"
     ],
     "language": "python",
     "metadata": {},
     "outputs": [],
     "prompt_number": 69
    },
    {
     "cell_type": "code",
     "collapsed": false,
     "input": [],
     "language": "python",
     "metadata": {},
     "outputs": []
    },
    {
     "cell_type": "code",
     "collapsed": false,
     "input": [
      "DataFile = open('../data/SmallCatallog.cvs', 'w') "
     ],
     "language": "python",
     "metadata": {},
     "outputs": [],
     "prompt_number": 73
    },
    {
     "cell_type": "code",
     "collapsed": false,
     "input": [
      "for i in range(index.size):\n",
      "    for j in range(3):\n",
      "        DataFile.write(str(ReducedCat[i,j])+',')\n",
      "    DataFile.write(str(ReducedCat[i,3])+'\\n')\n",
      "DataFile.close()"
     ],
     "language": "python",
     "metadata": {},
     "outputs": [],
     "prompt_number": 74
    },
    {
     "cell_type": "code",
     "collapsed": false,
     "input": [
      "ReducedCat[:,3]\n"
     ],
     "language": "python",
     "metadata": {},
     "outputs": [
      {
       "metadata": {},
       "output_type": "pyout",
       "prompt_number": 75,
       "text": [
        "array([  1.14060000e+11,   1.14060000e+11,   1.14060000e+11, ...,\n",
        "         1.04450000e+13,   1.21570000e+13,   2.05840000e+13])"
       ]
      }
     ],
     "prompt_number": 75
    },
    {
     "cell_type": "code",
     "collapsed": false,
     "input": [
      "index0 = np.where(DATA[:,3]>=4.04460000e+10)[0]"
     ],
     "language": "python",
     "metadata": {},
     "outputs": [],
     "prompt_number": 62
    },
    {
     "cell_type": "code",
     "collapsed": false,
     "input": [
      "index0.size"
     ],
     "language": "python",
     "metadata": {},
     "outputs": [
      {
       "metadata": {},
       "output_type": "pyout",
       "prompt_number": 63,
       "text": [
        "831853"
       ]
      }
     ],
     "prompt_number": 63
    },
    {
     "cell_type": "code",
     "collapsed": false,
     "input": [
      "index1 = np.where(ReducedCat[:,3]>=4.04460000e+10)[0]\n"
     ],
     "language": "python",
     "metadata": {},
     "outputs": [],
     "prompt_number": 64
    },
    {
     "cell_type": "code",
     "collapsed": false,
     "input": [
      "index1.size"
     ],
     "language": "python",
     "metadata": {},
     "outputs": [
      {
       "metadata": {},
       "output_type": "pyout",
       "prompt_number": 65,
       "text": [
        "166027"
       ]
      }
     ],
     "prompt_number": 65
    },
    {
     "cell_type": "code",
     "collapsed": false,
     "input": [
      "plot\n",
      "hist( DATA[:,3], color='red',bins=Mrange, log=True)\n",
      "hist( ReducedCat[:,3], bins=Mrange, log=True)\n",
      "gca().set_xscale('log')\n",
      "xlabel(r'Mass $[M_{\\odot}h^{-1}]$')\n",
      "title('Mass Function')"
     ],
     "language": "python",
     "metadata": {},
     "outputs": [
      {
       "metadata": {},
       "output_type": "pyout",
       "prompt_number": 76,
       "text": [
        "<matplotlib.text.Text at 0x1388a3810>"
       ]
      },
      {
       "metadata": {},
       "output_type": "display_data",
       "png": "[encoded data removed]",
       "text": [
        "<matplotlib.figure.Figure at 0x13976f4d0>"
       ]
      }
     ],
     "prompt_number": 76
    }
   ],
   "metadata": {}
  }
 ]
}